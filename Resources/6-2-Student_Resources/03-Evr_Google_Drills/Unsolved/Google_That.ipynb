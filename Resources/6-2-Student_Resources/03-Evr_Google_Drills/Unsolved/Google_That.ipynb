{
 "cells": [
  {
   "cell_type": "code",
   "execution_count": 3,
   "metadata": {},
   "outputs": [],
   "source": [
    "# Create code to answer each of the following questions.\n",
    "# Hint: You will need multiple target URLs and multiple API requests.\n",
    "\n",
    "# Dependencies\n",
    "import requests\n",
    "import json\n",
    "\n",
    "# Google developer API key\n",
    "from config import gkey"
   ]
  },
  {
   "cell_type": "code",
   "execution_count": 8,
   "metadata": {},
   "outputs": [
    {
     "name": "stdout",
     "output_type": "stream",
     "text": [
      "{'results': [{'address_components': [{'long_name': 'Boise', 'short_name': 'Boise', 'types': ['locality', 'political']}, {'long_name': 'Ada County', 'short_name': 'Ada County', 'types': ['administrative_area_level_2', 'political']}, {'long_name': 'Idaho', 'short_name': 'ID', 'types': ['administrative_area_level_1', 'political']}, {'long_name': 'United States', 'short_name': 'US', 'types': ['country', 'political']}], 'formatted_address': 'Boise, ID, USA', 'geometry': {'bounds': {'northeast': {'lat': 43.6898951, 'lng': -116.1019091}, 'southwest': {'lat': 43.511717, 'lng': -116.3658869}}, 'location': {'lat': 43.6150186, 'lng': -116.2023137}, 'location_type': 'APPROXIMATE', 'viewport': {'northeast': {'lat': 43.6898951, 'lng': -116.1019091}, 'southwest': {'lat': 43.511717, 'lng': -116.3658869}}}, 'place_id': 'ChIJnbRH6XLxrlQRm51nNpuYW5o', 'types': ['locality', 'political']}], 'status': 'OK'}\n"
     ]
    }
   ],
   "source": [
    "# Dependencies\n",
    "import requests\n",
    "import json\n",
    "# Google developer API key\n",
    "from config import gkey\n",
    "\n",
    "# Target city\n",
    "target_city = \"Boise, Idaho\"\n",
    "# Build the endpoint URL\n",
    "target_url = ('https://maps.googleapis.com/maps/api/geocode/json?'\n",
    "    'address={0}&key={1}').format(target_city, gkey)\n",
    "# Run a request to endpoint and convert result to json\n",
    "geo_data = requests.get(target_url).json()\n",
    "# Print the json\n",
    "print(geo_data)"
   ]
  },
  {
   "cell_type": "code",
   "execution_count": 18,
   "metadata": {},
   "outputs": [
    {
     "name": "stdout",
     "output_type": "stream",
     "text": [
      "{'Seattle, Washington'}\n"
     ]
    }
   ],
   "source": [
    "# 1. What are the geocoordinates (latitude/longitude) of Seattle, Washington?\n",
    "target_city = \"Seattle, Washington\"\n",
    "\n",
    "params ={\n",
    "        \"addess\": target_city,\n",
    "        \"key\": gkey\n",
    "}\n",
    "\n",
    "#Build the endpoint URL\n",
    "\n",
    "target_url = (\"https://maps.googleapis.com/maps/api/geocode/json\")\n",
    "\n",
    "response = requests.get(target_url,params=params)\n",
    "\n",
    "seattle_geo = response.json()\n",
    "\n",
    "print({target_city})"
   ]
  },
  {
   "cell_type": "code",
   "execution_count": null,
   "metadata": {},
   "outputs": [],
   "source": [
    "# 2. What are the geocoordinates (latitude/longitude) of The White House?"
   ]
  },
  {
   "cell_type": "code",
   "execution_count": null,
   "metadata": {},
   "outputs": [],
   "source": [
    "# 3. Find the name and address of a bike store in Seattle, Washington.\n",
    "#    Hint: See https://developers.google.com/places/web-service/supported_types"
   ]
  },
  {
   "cell_type": "code",
   "execution_count": null,
   "metadata": {},
   "outputs": [],
   "source": [
    "# 4. Find a balloon store near the White House."
   ]
  },
  {
   "cell_type": "code",
   "execution_count": null,
   "metadata": {},
   "outputs": [],
   "source": [
    "# 5. Find the nearest dentist to your house.\n",
    "#    Hint: Use Google Maps to find your latitude and Google Places to find the\n",
    "#    dentist. You will also need the rankby property."
   ]
  }
 ],
 "metadata": {
  "kernelspec": {
   "display_name": "PythonData",
   "language": "python",
   "name": "pythondata"
  },
  "language_info": {
   "codemirror_mode": {
    "name": "ipython",
    "version": 3
   },
   "file_extension": ".py",
   "mimetype": "text/x-python",
   "name": "python",
   "nbconvert_exporter": "python",
   "pygments_lexer": "ipython3",
   "version": "3.7.10"
  }
 },
 "nbformat": 4,
 "nbformat_minor": 2
}
