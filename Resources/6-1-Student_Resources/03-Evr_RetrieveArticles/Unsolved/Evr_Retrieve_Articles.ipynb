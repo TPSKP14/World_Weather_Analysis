{
 "cells": [
  {
   "cell_type": "code",
   "execution_count": 9,
   "metadata": {},
   "outputs": [
    {
     "data": {
      "text/plain": [
       "'https://api.nytimes.com/svc/search/v2/articlesearch.json?api-key=Yl6ZU7TsQ9a1k4tCLRWUg50diJTQYE2J &q=coronavirus&begin_date=20200101&end_date=20200130'"
      ]
     },
     "execution_count": 9,
     "metadata": {},
     "output_type": "execute_result"
    }
   ],
   "source": [
    "# Dependencies\n",
    "import requests\n",
    "from config import api_key\n",
    "\n",
    "url = \"https://api.nytimes.com/svc/search/v2/articlesearch.json?\"\n",
    "\n",
    "# Store a search term\n",
    "query = \"coronavirus\"\n",
    "# Search for articles published between a begin and end date\n",
    "begin_date = \"20200101\"\n",
    "end_date = \"20200130\"\n",
    "\n",
    "#Build your URL\n",
    "\n",
    "query_url = f\"{url}api-key={api_key}&q={query}&begin_date={begin_date}&end_date={end_date}\"\n",
    "\n",
    "query_url\n"
   ]
  },
  {
   "cell_type": "code",
   "execution_count": 14,
   "metadata": {},
   "outputs": [
    {
     "name": "stdout",
     "output_type": "stream",
     "text": [
      "A snippet from the article: The virus has infected and killed millions of people around the world. See detailed maps and charts for each country.\n",
      "-----------------\n",
      "A snippet from the article: A respiratory virus that originated in China has infected more than 900,000 people worldwide, with at least 200,000 cases in the United States.\n",
      "-----------------\n",
      "A snippet from the article: Distrust in science and institutions could be a major problem if the outbreak worsens.\n",
      "-----------------\n",
      "A snippet from the article: The city's health commissioner has urged calm as cases of the dangerous new coronavirus crop up in a number of states. \n",
      "-----------------\n",
      "A snippet from the article: It may have started with a bat in a cave, but human activity set it loose.\n",
      "-----------------\n",
      "A snippet from the article: In Queens, some who recently returned from China have even self-quarantined. But officials have urged calm.\n",
      "-----------------\n",
      "A snippet from the article: Public health experts explain the risks and what we still don’t know.\n",
      "-----------------\n",
      "A snippet from the article: Investors have been worried that the mysterious epidemic in China could hurt economic growth.\n",
      "-----------------\n",
      "A snippet from the article: Lunar New Year celebrations have taken on a muted feel.\n",
      "-----------------\n",
      "A snippet from the article: The disease outbreak in China continues to spook investors around the world, though fears appear to be moderating slightly.\n",
      "-----------------\n"
     ]
    }
   ],
   "source": [
    "# Retrieve articles\n",
    "articles = requests.get(query_url).json()\n",
    "#have to do json().dumps to figure out what the corresponding dictionary and lists are to 'pull' for the below response and docs commands\n",
    "article_list = articles[\"response\"][\"docs\"]\n",
    "\n",
    "\n",
    "for article in article_list:\n",
    "    print(f'A snippet from the article: {article[\"snippet\"]}')\n",
    "    print('-----------------')"
   ]
  },
  {
   "cell_type": "code",
   "execution_count": null,
   "metadata": {},
   "outputs": [],
   "source": [
    "# BONUS: How would we get 30 results? \n",
    "# HINT: Look up the page query param"
   ]
  }
 ],
 "metadata": {
  "kernelspec": {
   "display_name": "PythonData",
   "language": "python",
   "name": "pythondata"
  },
  "language_info": {
   "codemirror_mode": {
    "name": "ipython",
    "version": 3
   },
   "file_extension": ".py",
   "mimetype": "text/x-python",
   "name": "python",
   "nbconvert_exporter": "python",
   "pygments_lexer": "ipython3",
   "version": "3.7.10"
  },
  "varInspector": {
   "cols": {
    "lenName": 16,
    "lenType": 16,
    "lenVar": 40
   },
   "kernels_config": {
    "python": {
     "delete_cmd_postfix": "",
     "delete_cmd_prefix": "del ",
     "library": "var_list.py",
     "varRefreshCmd": "print(var_dic_list())"
    },
    "r": {
     "delete_cmd_postfix": ") ",
     "delete_cmd_prefix": "rm(",
     "library": "var_list.r",
     "varRefreshCmd": "cat(var_dic_list()) "
    }
   },
   "types_to_exclude": [
    "module",
    "function",
    "builtin_function_or_method",
    "instance",
    "_Feature"
   ],
   "window_display": false
  }
 },
 "nbformat": 4,
 "nbformat_minor": 2
}
