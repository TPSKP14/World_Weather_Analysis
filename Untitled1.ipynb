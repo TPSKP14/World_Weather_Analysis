{
 "cells": [
  {
   "cell_type": "code",
   "execution_count": 15,
   "id": "274f1945",
   "metadata": {},
   "outputs": [],
   "source": [
    "# Dependencies\n",
    "import requests\n",
    "import json\n",
    "# Google developer API key\n",
    "from config import g_key\n",
    "# Target city\n",
    "target_city = \"Boise, Idaho\"\n",
    "# Build the endpoint URL\n",
    "target_url = ('https://maps.googleapis.com/maps/api/geocode/json?'\n",
    "    'address={0}&key={1}').format(target_city, g_key)\n"
   ]
  },
  {
   "cell_type": "code",
   "execution_count": 16,
   "id": "caac56ba",
   "metadata": {},
   "outputs": [
    {
     "name": "stdout",
     "output_type": "stream",
     "text": [
      "{'results': [{'address_components': [{'long_name': 'Boise', 'short_name': 'Boise', 'types': ['locality', 'political']}, {'long_name': 'Ada County', 'short_name': 'Ada County', 'types': ['administrative_area_level_2', 'political']}, {'long_name': 'Idaho', 'short_name': 'ID', 'types': ['administrative_area_level_1', 'political']}, {'long_name': 'United States', 'short_name': 'US', 'types': ['country', 'political']}], 'formatted_address': 'Boise, ID, USA', 'geometry': {'bounds': {'northeast': {'lat': 43.6898951, 'lng': -116.1019091}, 'southwest': {'lat': 43.511717, 'lng': -116.3658869}}, 'location': {'lat': 43.6150186, 'lng': -116.2023137}, 'location_type': 'APPROXIMATE', 'viewport': {'northeast': {'lat': 43.6898951, 'lng': -116.1019091}, 'southwest': {'lat': 43.511717, 'lng': -116.3658869}}}, 'place_id': 'ChIJnbRH6XLxrlQRm51nNpuYW5o', 'types': ['locality', 'political']}], 'status': 'OK'}\n"
     ]
    }
   ],
   "source": [
    "# Run a request to endpoint and convert result to json\n",
    "geo_data = requests.get(target_url).json()\n",
    "# Print the json\n",
    "print(geo_data)"
   ]
  },
  {
   "cell_type": "code",
   "execution_count": null,
   "id": "cc3d2d70",
   "metadata": {},
   "outputs": [],
   "source": []
  }
 ],
 "metadata": {
  "kernelspec": {
   "display_name": "PythonData",
   "language": "python",
   "name": "pythondata"
  },
  "language_info": {
   "codemirror_mode": {
    "name": "ipython",
    "version": 3
   },
   "file_extension": ".py",
   "mimetype": "text/x-python",
   "name": "python",
   "nbconvert_exporter": "python",
   "pygments_lexer": "ipython3",
   "version": "3.7.10"
  }
 },
 "nbformat": 4,
 "nbformat_minor": 5
}
