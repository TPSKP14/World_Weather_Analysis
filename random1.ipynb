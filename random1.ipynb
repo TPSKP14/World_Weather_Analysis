{
 "cells": [
  {
   "cell_type": "code",
   "execution_count": 1,
   "id": "c889f705",
   "metadata": {},
   "outputs": [],
   "source": [
    "#Import the random module\n",
    "import random as random"
   ]
  },
  {
   "cell_type": "code",
   "execution_count": 2,
   "id": "cac210bd",
   "metadata": {},
   "outputs": [
    {
     "data": {
      "text/plain": [
       "-85"
      ]
     },
     "execution_count": 2,
     "metadata": {},
     "output_type": "execute_result"
    }
   ],
   "source": [
    "random.randint(-90,90)"
   ]
  },
  {
   "cell_type": "code",
   "execution_count": 3,
   "id": "c2d62719",
   "metadata": {},
   "outputs": [
    {
     "data": {
      "text/plain": [
       "0.9926296752709866"
      ]
     },
     "execution_count": 3,
     "metadata": {},
     "output_type": "execute_result"
    }
   ],
   "source": [
    "random.random()"
   ]
  },
  {
   "cell_type": "code",
   "execution_count": 4,
   "id": "30e68660",
   "metadata": {},
   "outputs": [
    {
     "data": {
      "text/plain": [
       "-70.01514360972205"
      ]
     },
     "execution_count": 4,
     "metadata": {},
     "output_type": "execute_result"
    }
   ],
   "source": [
    "random_number = random.randint(-90,89)+random.random()\n",
    "random_number"
   ]
  },
  {
   "cell_type": "code",
   "execution_count": 5,
   "id": "5dc2ab27",
   "metadata": {},
   "outputs": [
    {
     "data": {
      "text/plain": [
       "[42.177657573499204,\n",
       " 66.83560119071245,\n",
       " 67.14268240657131,\n",
       " -10.77665176103576,\n",
       " 49.39667484952827,\n",
       " 68.35152591213188,\n",
       " 65.29359668004945,\n",
       " 17.716911947214502,\n",
       " -41.108267218075355,\n",
       " 78.32062364855197]"
      ]
     },
     "execution_count": 5,
     "metadata": {},
     "output_type": "execute_result"
    }
   ],
   "source": [
    "x = 1\n",
    "latitudes = []\n",
    "while x < 11:\n",
    "    random_lat = random.randint(-90, 89) + random.random()\n",
    "    latitudes.append(random_lat)\n",
    "    x += 1\n",
    "latitudes"
   ]
  },
  {
   "cell_type": "code",
   "execution_count": 6,
   "id": "8a28435b",
   "metadata": {},
   "outputs": [
    {
     "data": {
      "text/plain": [
       "56"
      ]
     },
     "execution_count": 6,
     "metadata": {},
     "output_type": "execute_result"
    }
   ],
   "source": [
    "random.randrange(-90, 90, step=1)"
   ]
  },
  {
   "cell_type": "code",
   "execution_count": 7,
   "id": "ed6f8af1",
   "metadata": {},
   "outputs": [
    {
     "data": {
      "text/plain": [
       "-84"
      ]
     },
     "execution_count": 7,
     "metadata": {},
     "output_type": "execute_result"
    }
   ],
   "source": [
    "random.randrange(-90, 90, step=3)"
   ]
  },
  {
   "cell_type": "code",
   "execution_count": 8,
   "id": "e8a28487",
   "metadata": {},
   "outputs": [
    {
     "data": {
      "text/plain": [
       "-44.696498099360305"
      ]
     },
     "execution_count": 8,
     "metadata": {},
     "output_type": "execute_result"
    }
   ],
   "source": [
    "random.uniform(-90, 90)"
   ]
  },
  {
   "cell_type": "code",
   "execution_count": 9,
   "id": "e6e3b003",
   "metadata": {},
   "outputs": [],
   "source": [
    "# Import the NumPy module.\n",
    "import numpy as np"
   ]
  },
  {
   "cell_type": "code",
   "execution_count": 10,
   "id": "baeb4e65",
   "metadata": {},
   "outputs": [
    {
     "data": {
      "text/plain": [
       "24.92953911532321"
      ]
     },
     "execution_count": 10,
     "metadata": {},
     "output_type": "execute_result"
    }
   ],
   "source": [
    "np.random.uniform(-90.000, 90.000)"
   ]
  },
  {
   "cell_type": "code",
   "execution_count": 11,
   "id": "98ddb081",
   "metadata": {},
   "outputs": [
    {
     "data": {
      "text/plain": [
       "array([ 53.24974937,  72.99710089,  29.11796384,   9.17156872,\n",
       "        18.62600824, -49.05678283, -25.02222181,  22.13772127,\n",
       "       -28.59411767, -46.64854763,  72.63873182, -25.14643412,\n",
       "       -44.83617846,  74.37035146,  23.46758111, -25.2115606 ,\n",
       "        37.33200831,  -8.79905164, -73.98449827,  48.17005528,\n",
       "       -53.94666842, -16.0915541 ,  77.40890893,  88.43104641,\n",
       "        57.49695466, -46.31043558, -27.73287637,  79.35744076,\n",
       "        89.87682499, -36.82781137,  34.55050083,  -8.49246901,\n",
       "        36.53510217,  79.55489964,  -0.68925993,  52.72486507,\n",
       "        72.81046479,  35.11289645,  60.34422625,  39.62087869,\n",
       "       -38.61453405, -61.5085908 ,  21.63510522,  32.98601984,\n",
       "        30.75196943,  66.45970923,  70.97087532,  60.82601518,\n",
       "        65.78653617, -40.49005925])"
      ]
     },
     "execution_count": 11,
     "metadata": {},
     "output_type": "execute_result"
    }
   ],
   "source": [
    "np.random.uniform(-90.000, 90.000, size=50)"
   ]
  },
  {
   "cell_type": "code",
   "execution_count": 12,
   "id": "f8bea20e",
   "metadata": {},
   "outputs": [],
   "source": [
    "# Import timeit.\n",
    "import timeit"
   ]
  },
  {
   "cell_type": "code",
   "execution_count": 13,
   "id": "bb26f5f4",
   "metadata": {},
   "outputs": [
    {
     "name": "stdout",
     "output_type": "stream",
     "text": [
      "12.2 µs ± 65 ns per loop (mean ± std. dev. of 7 runs, 100000 loops each)\n"
     ]
    }
   ],
   "source": [
    "%timeit np.random.uniform(-90.000, 90.000, size=1500)"
   ]
  },
  {
   "cell_type": "code",
   "execution_count": 14,
   "id": "3a8766f3",
   "metadata": {},
   "outputs": [
    {
     "name": "stdout",
     "output_type": "stream",
     "text": [
      "1.6 ms ± 14.8 µs per loop (mean ± std. dev. of 7 runs, 1000 loops each)\n"
     ]
    }
   ],
   "source": [
    "def latitudes(size):\n",
    "    latitudes = []\n",
    "    x = 0\n",
    "    while x < (size):\n",
    "        random_lat = random.randint(-90, 90) + random.random()\n",
    "        latitudes.append(random_lat)\n",
    "        x += 1\n",
    "    return latitudes\n",
    "# Call the function with 1500.\n",
    "%timeit latitudes(1500)"
   ]
  },
  {
   "cell_type": "code",
   "execution_count": 17,
   "id": "f0d1a3cd",
   "metadata": {},
   "outputs": [
    {
     "data": {
      "text/plain": [
       "[-80.36791068349106,\n",
       " 62.52070999506451,\n",
       " -46.993498940503535,\n",
       " 7.2493556124700484,\n",
       " -23.621017893897744,\n",
       " -50.36851910600068,\n",
       " 64.04915393288991,\n",
       " -17.579583511729048,\n",
       " 39.9665732875177,\n",
       " 0.8377731923002691]"
      ]
     },
     "execution_count": 17,
     "metadata": {},
     "output_type": "execute_result"
    }
   ],
   "source": [
    "x = 1\n",
    "latitudes = []\n",
    "while x < 11:\n",
    "    random_lat = random.randint(-90, 89) + random.random()\n",
    "    latitudes.append(random_lat)\n",
    "    x += 1\n",
    "latitudes"
   ]
  },
  {
   "cell_type": "code",
   "execution_count": 18,
   "id": "994f9e93",
   "metadata": {},
   "outputs": [],
   "source": [
    "# Import the NumPy module.\n",
    "import numpy as np"
   ]
  },
  {
   "cell_type": "code",
   "execution_count": 19,
   "id": "f0654772",
   "metadata": {},
   "outputs": [
    {
     "data": {
      "text/plain": [
       "-19.94627915313245"
      ]
     },
     "execution_count": 19,
     "metadata": {},
     "output_type": "execute_result"
    }
   ],
   "source": [
    "np.random.uniform(-90.000, 90.000)"
   ]
  },
  {
   "cell_type": "code",
   "execution_count": 20,
   "id": "33da415d",
   "metadata": {},
   "outputs": [
    {
     "data": {
      "text/plain": [
       "array([ 40.07820225,  80.05020627, -51.42352283,  66.08499444,\n",
       "        25.72693279, -87.94508889, -75.23921615,  61.75788173,\n",
       "       -77.7101116 ,  44.54350814, -52.52565181, -83.38706849,\n",
       "        83.32787367,  77.28723382, -24.04381507,  11.03113594,\n",
       "       -82.3237226 ,  66.17033437,  48.25820486, -22.46279307,\n",
       "       -40.89815715, -21.24969382,   1.75468604, -84.25689404,\n",
       "       -10.69625392,  23.33939655,  26.34240183, -70.5722582 ,\n",
       "       -36.48678987,  36.26702331,   5.35184501,  20.98734894,\n",
       "       -85.2645443 , -47.70501092,  72.38165117,  39.22062625,\n",
       "       -64.0876645 , -74.90159758, -42.79288962, -41.74711445,\n",
       "        27.6620084 ,  -7.37497262, -23.96803237,  43.11571391,\n",
       "        64.91678233, -32.40175179,  45.73026945,  36.06560186,\n",
       "       -83.66432955, -71.43363742])"
      ]
     },
     "execution_count": 20,
     "metadata": {},
     "output_type": "execute_result"
    }
   ],
   "source": [
    "np.random.uniform(-90.000, 90.000, size=50)"
   ]
  },
  {
   "cell_type": "code",
   "execution_count": null,
   "id": "58fa196c",
   "metadata": {},
   "outputs": [],
   "source": []
  },
  {
   "cell_type": "code",
   "execution_count": null,
   "id": "8976cc86",
   "metadata": {},
   "outputs": [],
   "source": []
  }
 ],
 "metadata": {
  "kernelspec": {
   "display_name": "PythonData",
   "language": "python",
   "name": "pythondata"
  },
  "language_info": {
   "codemirror_mode": {
    "name": "ipython",
    "version": 3
   },
   "file_extension": ".py",
   "mimetype": "text/x-python",
   "name": "python",
   "nbconvert_exporter": "python",
   "pygments_lexer": "ipython3",
   "version": "3.7.10"
  }
 },
 "nbformat": 4,
 "nbformat_minor": 5
}
